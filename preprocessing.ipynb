{
  "cells": [
    {
      "cell_type": "markdown",
      "metadata": {
        "id": "view-in-github",
        "colab_type": "text"
      },
      "source": [
        "<a href=\"https://colab.research.google.com/github/vladi29/ANA-Classifier/blob/main/preprocessing.ipynb\" target=\"_parent\"><img src=\"https://colab.research.google.com/assets/colab-badge.svg\" alt=\"Open In Colab\"/></a>"
      ]
    },
    {
      "cell_type": "code",
      "execution_count": 1,
      "metadata": {
        "id": "ZhUmw9pqs0ct"
      },
      "outputs": [],
      "source": [
        "# Universidad Simon Bolivar - 21 de Enero de 2022\n",
        "# Trabajo final de grado: Clasificador de patrones ANA\n",
        "# Vladimir Alfaro - 1510023\n",
        "\n",
        "# Preprocesamiento de las imagenes\n",
        "import pandas as pd\n",
        "import time\n",
        "import cv2\n",
        "import random\n",
        "import numpy as np\n",
        "from matplotlib import pyplot as plt"
      ]
    },
    {
      "cell_type": "code",
      "execution_count": 2,
      "metadata": {
        "id": "8onIdc7rK_QG"
      },
      "outputs": [],
      "source": [
        "#%cd drive/MyDrive/Colab_Notebooks/Tesis/aida_project_database/\n",
        "labels_path = 'drive/MyDrive/Colab_Notebooks/Tesis/AIDA_HEp2_GroundTruth.xlsx'\n",
        "images_path = 'drive/MyDrive/Colab_Notebooks/Tesis/aida_project_database'\n",
        "\n",
        "df = pd.read_excel(labels_path, header = 0)\n",
        "shuffled_df = df.sample(frac = 1).reset_index(drop = True)\n",
        "shuffled_df.to_excel('drive/MyDrive/Colab_Notebooks/Tesis/Preprocessing/shuffled_images.xlsx')\n",
        "\n",
        "data = pd.read_excel('drive/MyDrive/Colab_Notebooks/Tesis/Preprocessing/shuffled_images.xlsx')\n",
        "labels_list = data['StainingPatterns'].values.tolist()\n",
        "images_raw = data['ImageFileName'].values.tolist()\n",
        "images = []\n",
        "for name in images_raw:\n",
        "  images.append(name.lower())"
      ]
    },
    {
      "cell_type": "code",
      "execution_count": null,
      "metadata": {
        "id": "mqn-eMmozstv"
      },
      "outputs": [],
      "source": [
        "start_time = time.time()\n",
        "images_list = []\n",
        "i = 0\n",
        "for image in images:\n",
        "    i = i + 1\n",
        "    print(\"Images: \", i)\n",
        "    image_path = images_path + '/' + image\n",
        "    image = cv2.imread(image_path)\n",
        "    #image = image[:,:,1]   #Usamos unicamente el canal verde de de cada imagen segun reportan en [2]\n",
        "    image = (image/255).astype('float32')\n",
        "    image = cv2.resize(image, (100, 75))\n",
        "    images_list.append(image)\n",
        "final_time = time.time() - start_time\n",
        "print('Tiempo de preprocesado de las images:', final_time/60)\n",
        "\n",
        "labels = np.asarray(labels_list)\n",
        "np.savetxt('drive/MyDrive/Colab_Notebooks/Tesis/Preprocessing/labels.csv', labels, fmt ='%s', delimiter = ',')\n",
        "\n",
        "names = np.asarray(images)\n",
        "np.savetxt('drive/MyDrive/Colab_Notebooks/Tesis/Preprocessing/names.csv', names, fmt ='%s', delimiter = ',')\n",
        "\n",
        "images_compressed = np.asarray(images_list)\n",
        "np.savez_compressed('drive/MyDrive/Colab_Notebooks/Tesis/Preprocessing/images.npz', images_compressed)"
      ]
    }
  ],
  "metadata": {
    "colab": {
      "collapsed_sections": [],
      "name": "preprocessing.ipynb",
      "provenance": [],
      "mount_file_id": "1SI3Tv6xWlAK7Aw1sDlca4WO_ibw-G9-s",
      "authorship_tag": "ABX9TyOSapsDfqO+neGLDWH/vV8O",
      "include_colab_link": true
    },
    "kernelspec": {
      "display_name": "Python 3",
      "name": "python3"
    },
    "language_info": {
      "name": "python"
    }
  },
  "nbformat": 4,
  "nbformat_minor": 0
}