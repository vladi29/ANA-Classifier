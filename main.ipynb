{
  "nbformat": 4,
  "nbformat_minor": 0,
  "metadata": {
    "colab": {
      "name": "main.ipynb",
      "provenance": [],
      "collapsed_sections": [],
      "mount_file_id": "1Xmkm1usyRdYFWqlq0Xl3OqckaUXYSCKk",
      "authorship_tag": "ABX9TyP1TPLj2v4Oa3tSSXuJKxM7",
      "include_colab_link": true
    },
    "kernelspec": {
      "name": "python3",
      "display_name": "Python 3"
    },
    "language_info": {
      "name": "python"
    }
  },
  "cells": [
    {
      "cell_type": "markdown",
      "metadata": {
        "id": "view-in-github",
        "colab_type": "text"
      },
      "source": [
        "<a href=\"https://colab.research.google.com/github/vladi29/ANA-Classifier/blob/main/main.ipynb\" target=\"_parent\"><img src=\"https://colab.research.google.com/assets/colab-badge.svg\" alt=\"Open In Colab\"/></a>"
      ]
    },
    {
      "cell_type": "code",
      "execution_count": null,
      "metadata": {
        "id": "fL1C90aZn8oo"
      },
      "outputs": [],
      "source": [
        "# Universidad Simon Bolivar - 26 de Enero de 2022\n",
        "# Trabajo final de grado: Clasificador de patrones ANA\n",
        "# Vladimir Alfaro - 1510023\n",
        "\n",
        "# Creacion, entrenamiento y prueba de la red\n",
        "\n",
        "import torch.nn as nn\n",
        "import torch.nn.functional as F\n",
        "import torch\n",
        "from torch.utils.data import Dataset\n",
        "from torch.utils.data import DataLoader\n",
        "import numpy as np\n",
        "import matplotlib.pyplot as plt\n",
        "import random\n",
        "import pandas as pd\n",
        "import os"
      ]
    },
    {
      "cell_type": "code",
      "source": [
        "#----------Paths----------\n",
        "\n",
        "labels_path = 'drive/MyDrive/Colab_Notebooks/Tesis/Preprocessing/labels.csv'\n",
        "names_path = 'drive/MyDrive/Colab_Notebooks/Tesis/Preprocessing/names.csv'\n",
        "images_path = 'drive/MyDrive/Colab_Notebooks/Tesis/Preprocessing/images.npz'\n",
        "\n",
        "labels = pd.read_csv(labels_path, header = None)\n",
        "labels = labels.values.tolist()\n",
        "\n",
        "names = pd.read_csv(names_path, header = None)\n",
        "names = names.values.tolist()\n",
        "\n",
        "images = np.load(images_path)\n",
        "images = images['arr_0']\n",
        "\n",
        "images_list = []\n",
        "labels_list = []\n",
        "names_list = []\n",
        "\n",
        "for i in range(0, 6):\n",
        "    A = random.randint(0, 2079)\n",
        "    images_list.append(images[A])\n",
        "    labels_list.append(labels[A])\n",
        "    names_list.append(names[A])\n",
        "\n",
        "for i in range(0,6):\n",
        "    plt.subplot(2,3, i+1)\n",
        "    imagen = images_list[i]\n",
        "    print(\"Image name: \", names_list[i])\n",
        "    print(\"Label: \", labels_list[i])\n",
        "    plt.imshow(imagen)\n",
        "plt.show()"
      ],
      "metadata": {
        "id": "X-B7phRhoslB"
      },
      "execution_count": null,
      "outputs": []
    },
    {
      "cell_type": "code",
      "source": [
        "#Preparando la data para cambiar las clases por 1 para positivos y 0 para negativos\n",
        "\n",
        "binary_labels = []\n",
        "for label in labels:\n",
        "  if label[0] == 'Negative':\n",
        "    binary_labels.append(0)\n",
        "  else: \n",
        "    binary_labels.append(1)"
      ],
      "metadata": {
        "id": "0a2ff476v4pM"
      },
      "execution_count": null,
      "outputs": []
    }
  ]
}